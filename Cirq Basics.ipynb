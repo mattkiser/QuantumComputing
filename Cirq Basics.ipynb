{
 "cells": [
  {
   "cell_type": "markdown",
   "metadata": {},
   "source": [
    "# Cirq Basics\n",
    "\n",
    "This notebook loosely follows the introduction to the documentation (https://cirq.readthedocs.io/en/stable/) with a few deviations here and there."
   ]
  },
  {
   "cell_type": "code",
   "execution_count": 1,
   "metadata": {},
   "outputs": [],
   "source": [
    "import cirq"
   ]
  },
  {
   "cell_type": "code",
   "execution_count": 2,
   "metadata": {},
   "outputs": [
    {
     "name": "stdout",
     "output_type": "stream",
     "text": [
      "0.6.0\n"
     ]
    }
   ],
   "source": [
    "print(cirq.__version__)"
   ]
  },
  {
   "cell_type": "markdown",
   "metadata": {},
   "source": [
    "Cirq builds a circuit through building a grid made of moments. Moments can be thought of as steps in time through the circuit. Each moment is a combination of operations, which include gates or measurements. \n",
    "\n",
    "In order to construct our circuit, we must first define the grid length. The operation of GridQubit is the construction of a qubit on a 2d square lattice. Alternatively, we could instantiate a LineQubit system, which just puts the qubits in a line rather than a lattice."
   ]
  },
  {
   "cell_type": "code",
   "execution_count": 3,
   "metadata": {},
   "outputs": [
    {
     "name": "stdout",
     "output_type": "stream",
     "text": [
      "[cirq.GridQubit(0, 0), cirq.GridQubit(0, 1), cirq.GridQubit(0, 2), cirq.GridQubit(1, 0), cirq.GridQubit(1, 1), cirq.GridQubit(1, 2), cirq.GridQubit(2, 0), cirq.GridQubit(2, 1), cirq.GridQubit(2, 2)]\n"
     ]
    }
   ],
   "source": [
    "length = 3\n",
    "\n",
    "# We now loop through the length to create a 3x3 qubit grid.\n",
    "qubits = [cirq.GridQubit(i, j) for i in range(length) for j in range(length)]\n",
    "print(qubits)"
   ]
  },
  {
   "cell_type": "markdown",
   "metadata": {},
   "source": [
    "We can reference a qubit as you would expect in a python array."
   ]
  },
  {
   "cell_type": "code",
   "execution_count": 4,
   "metadata": {},
   "outputs": [
    {
     "data": {
      "text/plain": [
       "cirq.GridQubit(0, 1)"
      ]
     },
     "execution_count": 4,
     "metadata": {},
     "output_type": "execute_result"
    }
   ],
   "source": [
    "qubits[1]"
   ]
  },
  {
   "cell_type": "markdown",
   "metadata": {},
   "source": [
    "We can do many things with this grid now. One important thing for Cirq is checking if two qubits are adjacent. We can do this with the below code. "
   ]
  },
  {
   "cell_type": "code",
   "execution_count": 5,
   "metadata": {},
   "outputs": [
    {
     "name": "stdout",
     "output_type": "stream",
     "text": [
      "True\n",
      "False\n"
     ]
    }
   ],
   "source": [
    "# Check the first and second qubits in our qubits list:\n",
    "#  These correspond to the (0,0) and the (0,1) placements\n",
    "print(qubits[1].is_adjacent(qubits[2]))\n",
    "\n",
    "# Check the first and third qubits in our qubits list:\n",
    "#  These correspond to the (0,0) and the (0,2) placements\n",
    "print(qubits[1].is_adjacent(qubits[3]))"
   ]
  },
  {
   "cell_type": "markdown",
   "metadata": {},
   "source": [
    "So, we can see that our grid truly respects the intuitive connectivity of the lattice. This has implications on our code because during a two qubit gate we can only manipulate two qubits that are adjacent. Thus, we may have to incorporate swap gates in our final circuit in order to perform the circuit correctly."
   ]
  },
  {
   "cell_type": "code",
   "execution_count": 6,
   "metadata": {
    "scrolled": true
   },
   "outputs": [
    {
     "name": "stdout",
     "output_type": "stream",
     "text": [
      "Qubits 0 and 1: True\n",
      "Qubits 0 and 2: False\n",
      "Qubits 0 and 3: True\n",
      "Qubits 0 and 4: False\n",
      "Qubits 0 and 5: False\n",
      "Qubits 0 and 6: False\n",
      "Qubits 0 and 7: False\n",
      "Qubits 0 and 8: False\n",
      "Qubits 1 and 0: True\n",
      "Qubits 1 and 2: True\n",
      "Qubits 1 and 3: False\n",
      "Qubits 1 and 4: True\n",
      "Qubits 1 and 5: False\n",
      "Qubits 1 and 6: False\n",
      "Qubits 1 and 7: False\n",
      "Qubits 1 and 8: False\n",
      "Qubits 2 and 0: False\n",
      "Qubits 2 and 1: True\n",
      "Qubits 2 and 3: False\n",
      "Qubits 2 and 4: False\n",
      "Qubits 2 and 5: True\n",
      "Qubits 2 and 6: False\n",
      "Qubits 2 and 7: False\n",
      "Qubits 2 and 8: False\n",
      "Qubits 3 and 0: True\n",
      "Qubits 3 and 1: False\n",
      "Qubits 3 and 2: False\n",
      "Qubits 3 and 4: True\n",
      "Qubits 3 and 5: False\n",
      "Qubits 3 and 6: True\n",
      "Qubits 3 and 7: False\n",
      "Qubits 3 and 8: False\n",
      "Qubits 4 and 0: False\n",
      "Qubits 4 and 1: True\n",
      "Qubits 4 and 2: False\n",
      "Qubits 4 and 3: True\n",
      "Qubits 4 and 5: True\n",
      "Qubits 4 and 6: False\n",
      "Qubits 4 and 7: True\n",
      "Qubits 4 and 8: False\n",
      "Qubits 5 and 0: False\n",
      "Qubits 5 and 1: False\n",
      "Qubits 5 and 2: True\n",
      "Qubits 5 and 3: False\n",
      "Qubits 5 and 4: True\n",
      "Qubits 5 and 6: False\n",
      "Qubits 5 and 7: False\n",
      "Qubits 5 and 8: True\n",
      "Qubits 6 and 0: False\n",
      "Qubits 6 and 1: False\n",
      "Qubits 6 and 2: False\n",
      "Qubits 6 and 3: True\n",
      "Qubits 6 and 4: False\n",
      "Qubits 6 and 5: False\n",
      "Qubits 6 and 7: True\n",
      "Qubits 6 and 8: False\n",
      "Qubits 7 and 0: False\n",
      "Qubits 7 and 1: False\n",
      "Qubits 7 and 2: False\n",
      "Qubits 7 and 3: False\n",
      "Qubits 7 and 4: True\n",
      "Qubits 7 and 5: False\n",
      "Qubits 7 and 6: True\n",
      "Qubits 7 and 8: True\n",
      "Qubits 8 and 0: False\n",
      "Qubits 8 and 1: False\n",
      "Qubits 8 and 2: False\n",
      "Qubits 8 and 3: False\n",
      "Qubits 8 and 4: False\n",
      "Qubits 8 and 5: True\n",
      "Qubits 8 and 6: False\n",
      "Qubits 8 and 7: True\n"
     ]
    }
   ],
   "source": [
    "for i in range(length*length): \n",
    "  for j in range(length*length):\n",
    "    if j==i:\n",
    "      continue\n",
    "    print(\"Qubits {} and {}: \".format(i,j)+str(qubits[i].is_adjacent(qubits[j])))"
   ]
  },
  {
   "cell_type": "markdown",
   "metadata": {},
   "source": [
    "Now that we have our qubits created, we should probably do things with them. We can now have gates act *on* the qubit. The documentation emphasises that the gate acts *on* a qubit. What are some of the gates we can use? Well the basic ones are:\n",
    "\n",
    "- cirq.H The Hadamard gate.\n",
    "- cirq.I The one qubit identity gate.\n",
    "- cirq.S The Clifford S gate.\n",
    "- cirq.T The non-Clifford T gate.\n",
    "- cirq.X The Pauli X gate.\n",
    "- cirq.Y The Pauli Y gate.\n",
    "- cirq.Z The Pauli Z gate.\n",
    "- cirq.CX The controlled NOT gate.\n",
    "- cirq.CZ The controlled Z gate.\n",
    "- cirq.XX The tensor product of two X gates.\n",
    "- cirq.YY The tensor product of two Y gates.\n",
    "- cirq.ZZ The tensor product of two Z gates.\n",
    "- cirq.rx(rads) Returns a gate with the matrix $e^{-i X rads / 2}$.\n",
    "- cirq.ry(rads) Returns a gate with the matrix $e^{-i Y rads / 2}$.\n",
    "- cirq.rz(rads) Returns a gate with the matrix $e^{-i Z rads / 2}$.\n",
    "- cirq.CCNOT The TOFFOLI gate.\n",
    "- cirq.CCX The TOFFOLI gate.\n",
    "\n",
    "With many more available in the documentation.\n",
    "\n",
    "This is further clear in the code below."
   ]
  },
  {
   "cell_type": "code",
   "execution_count": 7,
   "metadata": {},
   "outputs": [
    {
     "name": "stdout",
     "output_type": "stream",
     "text": [
      "X((0, 0))\n"
     ]
    }
   ],
   "source": [
    "# We define the X gate with the next line\n",
    "x_gate = cirq.X\n",
    "\n",
    "# Then we specify that this will act on our 0-index qubit by defining\n",
    "# the operation as a variable\n",
    "x_op = x_gate(qubits[0])\n",
    "print(x_op)"
   ]
  },
  {
   "cell_type": "markdown",
   "metadata": {},
   "source": [
    "Now, we can specify gates acting on multiple qubits and combine them to create a moment, which can be a specific order of a circuit, but does not need to be."
   ]
  },
  {
   "cell_type": "code",
   "execution_count": 8,
   "metadata": {},
   "outputs": [
    {
     "name": "stdout",
     "output_type": "stream",
     "text": [
      "X((0, 2)) and CZ((0, 0), (0, 1))\n"
     ]
    }
   ],
   "source": [
    "# For a controlled gate the first qubit specified is the control and the second\n",
    "#   is the target\n",
    "cz = cirq.CZ(qubits[0], qubits[1])\n",
    "x = cirq.X(qubits[2])\n",
    "moment = cirq.Moment([x, cz])\n",
    "\n",
    "print(moment)"
   ]
  },
  {
   "cell_type": "markdown",
   "metadata": {},
   "source": [
    "If we try to specify two different operations on the same qubit we get an error. Thus, when we specify a moment, it must be on a disjoint set of qubits.\n",
    "\n",
    "If a moment is the combination of multiple operations, a circuit is a combination of multiple moments. Additionally, a circuit is an ordered series of moments with the first moment occuring first. \n",
    "\n",
    "We will use *OP_TREE*s to build circuits/moments. An OP_TREE is not a class, but a contract. The basic idea is that, if the input can be iteratively flattened into a list of operations, then the input is an OP_TREE. Examples are:\n",
    "\n",
    "- A single Operation.\n",
    "- A list of Operations.\n",
    "- A tuple of Operations.\n",
    "- A list of a list of Operationss.\n",
    "- A generator yielding Operations.\n",
    "\n",
    "We now entangle two qubits."
   ]
  },
  {
   "cell_type": "code",
   "execution_count": 9,
   "metadata": {},
   "outputs": [
    {
     "name": "stdout",
     "output_type": "stream",
     "text": [
      "(0, 1): ───H───@───\n",
      "               │\n",
      "(0, 2): ───────X───\n"
     ]
    }
   ],
   "source": [
    "cx12 = cirq.CX(qubits[1], qubits[2])\n",
    "H1 = cirq.H(qubits[1])\n",
    "moment0 = cirq.Moment([H1])\n",
    "moment1 = cirq.Moment([cx12])\n",
    "circuit = cirq.Circuit((moment0, moment1))\n",
    "print(circuit)"
   ]
  },
  {
   "cell_type": "markdown",
   "metadata": {},
   "source": [
    "Some other ways to create circuits are shown below"
   ]
  },
  {
   "cell_type": "code",
   "execution_count": 10,
   "metadata": {},
   "outputs": [
    {
     "name": "stdout",
     "output_type": "stream",
     "text": [
      "(0, 0): ───H───@───\n",
      "               │\n",
      "(1, 0): ───I───X───\n"
     ]
    }
   ],
   "source": [
    "# Import the gates to be used\n",
    "from cirq.ops import CX, CZ, H, X, I\n",
    "\n",
    "# Name each qubit that is desired.\n",
    "q0, q1 = [cirq.GridQubit(i, 0) for i in range(2)]\n",
    "\n",
    "# Initiate the circuit and name it\n",
    "circuit = cirq.Circuit()\n",
    "\n",
    "# Append the operations to the circuit and the circuit\n",
    "# will be constructed with the ordering \n",
    "# InsertStrategy.NEW_THEN_INLINE by default.\n",
    "# We insert the identity gate\n",
    "# to demonstrate this.\n",
    "circuit.append([H(q0),I(q1),CX(q0, q1)])\n",
    "print(circuit)"
   ]
  },
  {
   "cell_type": "markdown",
   "metadata": {},
   "source": [
    "We have now specified the same circuit in fewer lines and less tedious coding.\n",
    "\n",
    "If we do not want to have the new then inline insert strategy, we can specify a different one. There are four strategies: \n",
    "1. InsertStrategy.EARLIEST: \n",
    "2. InsertStrategy.NEW, \n",
    "3. InsertStrategy.INLINE and \n",
    "4. InsertStrategy.NEW_THEN_INLINE. (default)\n",
    "\n",
    "EARLIEST scans backward from the insert location until a moment with operations touching qubits affected by the operation to insert is found. The operation is added into the moment just after that location. We demonstrate this with the below"
   ]
  },
  {
   "cell_type": "code",
   "execution_count": 11,
   "metadata": {},
   "outputs": [
    {
     "name": "stdout",
     "output_type": "stream",
     "text": [
      "(0, 0): ───@───H───\n",
      "           │\n",
      "(1, 0): ───@───────\n",
      "\n",
      "(2, 0): ───H───────\n"
     ]
    }
   ],
   "source": [
    "from cirq.circuits import InsertStrategy\n",
    "circuit = cirq.Circuit()\n",
    "q0, q1, q2 = [cirq.GridQubit(i, 0) for i in range(3)]\n",
    "circuit.append([CZ(q0, q1)])\n",
    "circuit.append([H(q0), H(q2)], strategy=InsertStrategy.EARLIEST)\n",
    "print(circuit)"
   ]
  },
  {
   "cell_type": "markdown",
   "metadata": {},
   "source": [
    "As we can see because there was already an operation acting on qubit 0, so our new hadamard gate on q0 was appended after it; however, there was no operation on qubit 2 so it was placed in the first moment.\n",
    "\n",
    "We now use the same code with the NEW strategy"
   ]
  },
  {
   "cell_type": "code",
   "execution_count": 12,
   "metadata": {},
   "outputs": [
    {
     "name": "stdout",
     "output_type": "stream",
     "text": [
      "(0, 0): ───@───H───────\n",
      "           │\n",
      "(1, 0): ───@───────────\n",
      "\n",
      "(2, 0): ───────────H───\n"
     ]
    }
   ],
   "source": [
    "circuit = cirq.Circuit()\n",
    "circuit.append([CZ(q0, q1)])\n",
    "circuit.append([H(q0), H(q2)], strategy=InsertStrategy.NEW)\n",
    "print(circuit)"
   ]
  },
  {
   "cell_type": "markdown",
   "metadata": {},
   "source": [
    "We can see that this appends each operation into a new moment. Now, we see what happens if we use the INLINE strategy."
   ]
  },
  {
   "cell_type": "code",
   "execution_count": 13,
   "metadata": {},
   "outputs": [
    {
     "name": "stdout",
     "output_type": "stream",
     "text": [
      "(0, 0): ───@───H───\n",
      "           │\n",
      "(1, 0): ───@───────\n",
      "\n",
      "(2, 0): ───────H───\n"
     ]
    }
   ],
   "source": [
    "circuit = cirq.Circuit()\n",
    "circuit.append([CZ(q0, q1)])\n",
    "circuit.append([H(q0), H(q2)], strategy=InsertStrategy.INLINE)\n",
    "print(circuit)"
   ]
  },
  {
   "cell_type": "markdown",
   "metadata": {},
   "source": [
    "The circuit then attempts to add the operation to insert into the moment just before the\n",
    "desired insert location. But, if there’s already an existing operation affecting any of the qubits touched by\n",
    "the operation to insert, a new moment is created instead. We will look at another example for this one."
   ]
  },
  {
   "cell_type": "code",
   "execution_count": 14,
   "metadata": {},
   "outputs": [
    {
     "name": "stdout",
     "output_type": "stream",
     "text": [
      "(0, 0): ───────H───────\n",
      "\n",
      "(1, 0): ───@───@───H───\n",
      "           │   │\n",
      "(2, 0): ───@───@───H───\n"
     ]
    }
   ],
   "source": [
    "circuit = cirq.Circuit()\n",
    "circuit.append([CZ(q1, q2)])\n",
    "circuit.append([CZ(q1, q2)])\n",
    "circuit.append([H(q0), H(q1), H(q2)], strategy=InsertStrategy.INLINE)\n",
    "print(circuit)"
   ]
  },
  {
   "cell_type": "markdown",
   "metadata": {},
   "source": [
    "*Think through what happens if you change the insert strategy for the above circuit*"
   ]
  },
  {
   "cell_type": "markdown",
   "metadata": {},
   "source": [
    "Now, what exactly does our default strategy do? It Creates a new moment at the desired insert location for the first operation, but then switches to inserting operations according to InsertStrategy.INLINE. We see this in the below."
   ]
  },
  {
   "cell_type": "code",
   "execution_count": 15,
   "metadata": {},
   "outputs": [
    {
     "name": "stdout",
     "output_type": "stream",
     "text": [
      "(0, 0): ───H───H───\n",
      "\n",
      "(1, 0): ───────@───\n",
      "               │\n",
      "(2, 0): ───────@───\n"
     ]
    }
   ],
   "source": [
    "circuit = cirq.Circuit()\n",
    "circuit.append([H(q0)])\n",
    "circuit.append([CZ(q1,q2), H(q0)], strategy=InsertStrategy.NEW_THEN_INLINE)\n",
    "print(circuit)"
   ]
  },
  {
   "cell_type": "markdown",
   "metadata": {},
   "source": [
    "We can do more than just specify lists to our append operation. We can also write a function to pass through the append. "
   ]
  },
  {
   "cell_type": "code",
   "execution_count": 16,
   "metadata": {},
   "outputs": [
    {
     "name": "stdout",
     "output_type": "stream",
     "text": [
      "The moments are:\n",
      "CZ((0, 0), (1, 0))\n",
      "[cirq.H.on(cirq.GridQubit(0, 0)), cirq.H.on(cirq.GridQubit(1, 0)), cirq.H.on(cirq.GridQubit(2, 0))]\n",
      "[cirq.CZ.on(cirq.GridQubit(1, 0), cirq.GridQubit(2, 0))]\n",
      "[cirq.H.on(cirq.GridQubit(0, 0)), [cirq.CZ.on(cirq.GridQubit(1, 0), cirq.GridQubit(2, 0))]]\n",
      "\n",
      "The circuit is:\n",
      "(0, 0): ───@───H───H───────\n",
      "           │\n",
      "(1, 0): ───@───H───@───@───\n",
      "                   │   │\n",
      "(2, 0): ───H───────@───@───\n"
     ]
    }
   ],
   "source": [
    "def my_layer():\n",
    "    yield CZ(q0, q1)\n",
    "    yield [H(q) for q in (q0, q1, q2)]\n",
    "    yield [CZ(q1, q2)]\n",
    "    yield [H(q0), [CZ(q1, q2)]]\n",
    "circuit = cirq.Circuit()\n",
    "circuit.append(my_layer())\n",
    "print(\"The moments are:\")\n",
    "for x in my_layer():\n",
    "    print(x)\n",
    "print(\"\\nThe circuit is:\")\n",
    "print(circuit)"
   ]
  },
  {
   "cell_type": "markdown",
   "metadata": {},
   "source": [
    "We can also put our OP_TREE right into the circuit when we initialize it."
   ]
  },
  {
   "cell_type": "code",
   "execution_count": 17,
   "metadata": {},
   "outputs": [
    {
     "name": "stdout",
     "output_type": "stream",
     "text": [
      "(0, 0): ───@───H───H───────\n",
      "           │\n",
      "(1, 0): ───@───H───@───@───\n",
      "                   │   │\n",
      "(2, 0): ───H───────@───@───\n"
     ]
    }
   ],
   "source": [
    "circuit = cirq.Circuit(my_layer())\n",
    "print(circuit)"
   ]
  },
  {
   "cell_type": "markdown",
   "metadata": {},
   "source": [
    "We can reference qubits by their row index (using <code>.row</code>) or column index (using <code>.col</code>)."
   ]
  },
  {
   "cell_type": "code",
   "execution_count": 18,
   "metadata": {},
   "outputs": [
    {
     "name": "stdout",
     "output_type": "stream",
     "text": [
      "(0, 0): ───H───────\n",
      "\n",
      "(0, 1): ───────X───\n",
      "\n",
      "(0, 2): ───H───────\n",
      "\n",
      "(1, 0): ───────X───\n",
      "\n",
      "(1, 1): ───H───────\n",
      "\n",
      "(1, 2): ───────X───\n",
      "\n",
      "(2, 0): ───H───────\n",
      "\n",
      "(2, 1): ───────X───\n",
      "\n",
      "(2, 2): ───H───────\n"
     ]
    }
   ],
   "source": [
    "circuit = cirq.Circuit()\n",
    "circuit.append([cirq.H(q) for q in qubits if (q.row + q.col) % 2 == 0],\n",
    "               strategy=cirq.InsertStrategy.EARLIEST)\n",
    "circuit.append([cirq.X(q) for q in qubits if (q.row + q.col) % 2 == 1],\n",
    "               strategy=cirq.InsertStrategy.NEW_THEN_INLINE)\n",
    "print(circuit)"
   ]
  },
  {
   "cell_type": "markdown",
   "metadata": {},
   "source": [
    "### Iterating and slicing\n",
    "\n",
    "We can also iterate and slice circuits. When we iterate over a circuit, each iterate is a moment."
   ]
  },
  {
   "cell_type": "code",
   "execution_count": 19,
   "metadata": {},
   "outputs": [
    {
     "name": "stdout",
     "output_type": "stream",
     "text": [
      "H((0, 0))\n",
      "CZ((0, 0), (1, 0))\n"
     ]
    }
   ],
   "source": [
    "circuit = cirq.Circuit(H(q0), CZ(q0, q1))\n",
    "for moment in circuit:\n",
    "    print(moment)"
   ]
  },
  {
   "cell_type": "markdown",
   "metadata": {},
   "source": [
    "We can then slice a circuit into moments."
   ]
  },
  {
   "cell_type": "code",
   "execution_count": 20,
   "metadata": {},
   "outputs": [
    {
     "name": "stdout",
     "output_type": "stream",
     "text": [
      "(0, 0): ───H───@───────@───\n",
      "               │       │\n",
      "(1, 0): ───────@───H───@───\n",
      "\n",
      "Taking the slice at index 1 and 2:\n",
      "(0, 0): ───@───────\n",
      "           │\n",
      "(1, 0): ───@───H───\n"
     ]
    }
   ],
   "source": [
    "circuit = cirq.Circuit(H(q0), CZ(q0, q1), H(q1), CZ(q0, q1))\n",
    "print(circuit)\n",
    "print(\"\\nTaking the slice at index 1 and 2:\")\n",
    "print(circuit[1:3]) # Remember to use python indexing for the array."
   ]
  },
  {
   "cell_type": "markdown",
   "metadata": {},
   "source": [
    "We now see what this looks like based on the different insert strategies."
   ]
  },
  {
   "cell_type": "code",
   "execution_count": 21,
   "metadata": {},
   "outputs": [
    {
     "name": "stdout",
     "output_type": "stream",
     "text": [
      "(0, 0): ───────H───────\n",
      "\n",
      "(1, 0): ───@───@───H───\n",
      "           │   │\n",
      "(2, 0): ───@───@───H───\n",
      "\n",
      "Taking the slice at index 1:\n",
      "(0, 0): ───H───\n",
      "\n",
      "(1, 0): ───@───\n",
      "           │\n",
      "(2, 0): ───@───\n"
     ]
    }
   ],
   "source": [
    "circuit = cirq.Circuit()\n",
    "circuit.append([CZ(q1, q2)])\n",
    "circuit.append([CZ(q1, q2)])\n",
    "circuit.append([H(q0), H(q1), H(q2)], strategy=InsertStrategy.INLINE)\n",
    "print(circuit)\n",
    "print(\"\\nTaking the slice at index 1:\")\n",
    "print(circuit[1:2])"
   ]
  },
  {
   "cell_type": "code",
   "execution_count": 22,
   "metadata": {},
   "outputs": [
    {
     "name": "stdout",
     "output_type": "stream",
     "text": [
      "(0, 0): ───────────H───────────\n",
      "\n",
      "(1, 0): ───@───@───────H───────\n",
      "           │   │\n",
      "(2, 0): ───@───@───────────H───\n",
      "\n",
      "Taking the slice at index 1:\n",
      "(1, 0): ───@───\n",
      "           │\n",
      "(2, 0): ───@───\n"
     ]
    }
   ],
   "source": [
    "circuit = cirq.Circuit()\n",
    "circuit.append([CZ(q1, q2)])\n",
    "circuit.append([CZ(q1, q2)])\n",
    "circuit.append([H(q0), H(q1), H(q2)], strategy=InsertStrategy.NEW)\n",
    "print(circuit)\n",
    "print(\"\\nTaking the slice at index 1:\")\n",
    "print(circuit[1:2])"
   ]
  },
  {
   "cell_type": "code",
   "execution_count": 23,
   "metadata": {},
   "outputs": [
    {
     "name": "stdout",
     "output_type": "stream",
     "text": [
      "(0, 0): ───H───────────\n",
      "\n",
      "(1, 0): ───@───@───H───\n",
      "           │   │\n",
      "(2, 0): ───@───@───H───\n",
      "\n",
      "Taking the slice at index 1:\n",
      "(1, 0): ───@───\n",
      "           │\n",
      "(2, 0): ───@───\n"
     ]
    }
   ],
   "source": [
    "circuit = cirq.Circuit()\n",
    "circuit.append([CZ(q1, q2)])\n",
    "circuit.append([CZ(q1, q2)])\n",
    "circuit.append([H(q0), H(q1), H(q2)], strategy=InsertStrategy.EARLIEST)\n",
    "print(circuit)\n",
    "print(\"\\nTaking the slice at index 1:\")\n",
    "print(circuit[1:2])"
   ]
  },
  {
   "cell_type": "markdown",
   "metadata": {},
   "source": [
    "Especially useful is dropping the last moment (which are often just measurements according to the documentation): <code>circuit[:-1]</code>, or reversing a\n",
    "circuit: <code>circuit[::-1]</code>."
   ]
  },
  {
   "cell_type": "code",
   "execution_count": 24,
   "metadata": {},
   "outputs": [
    {
     "name": "stdout",
     "output_type": "stream",
     "text": [
      "(0, 0): ───────────H───────────\n",
      "\n",
      "(1, 0): ───@───@───────H───────\n",
      "           │   │\n",
      "(2, 0): ───@───@───────────H───\n",
      "\n",
      "Reversing the circuit:\n",
      "(0, 0): ───────────H───────────\n",
      "\n",
      "(1, 0): ───────H───────@───@───\n",
      "                       │   │\n",
      "(2, 0): ───H───────────@───@───\n"
     ]
    }
   ],
   "source": [
    "circuit = cirq.Circuit()\n",
    "circuit.append([CZ(q1, q2)])\n",
    "circuit.append([CZ(q1, q2)])\n",
    "circuit.append([H(q0), H(q1), H(q2)], strategy=InsertStrategy.NEW)\n",
    "print(circuit)\n",
    "print(\"\\nReversing the circuit:\")\n",
    "print(circuit[::-1])"
   ]
  },
  {
   "cell_type": "markdown",
   "metadata": {},
   "source": [
    "We can also decompose moements into smaller 1 and 2 qubit gates. Though there are quite technical caveats to the current abilities of the cirq decomposition."
   ]
  },
  {
   "cell_type": "code",
   "execution_count": 25,
   "metadata": {},
   "outputs": [
    {
     "name": "stdout",
     "output_type": "stream",
     "text": [
      "(0, 0): ───@───\n",
      "           │\n",
      "(1, 0): ───@───\n",
      "           │\n",
      "(2, 0): ───X───\n",
      "\n",
      "Decomposition:\n",
      "(0, 0): ───T────────────────@─────────────────────────────────@─────────────────────────────@────────────────────────────@───────────────────────────────────────\n",
      "                            │                                 │                             │                            │\n",
      "(1, 0): ───T───────Y^-0.5───@───Y^0.5────@───T^-1────Y^-0.5───@────────Y^0.5───@───Y^-0.5───@──────Y^0.5────@───Y^-0.5───@──────Y^0.5────@───────────────────────\n",
      "                                         │                                     │                            │                            │\n",
      "(2, 0): ───Y^0.5───X────────T───Y^-0.5───@───Y^0.5───T────────Y^-0.5───────────@───Y^0.5────T^-1───Y^-0.5───@───Y^0.5────T^-1───Y^-0.5───@───Y^0.5───Y^0.5───X───\n"
     ]
    }
   ],
   "source": [
    "from cirq.ops import CCX\n",
    "circuit = cirq.Circuit()\n",
    "circuit.append([CCX(q0, q1, q2)])\n",
    "print(circuit)\n",
    "print(\"\\nDecomposition:\")\n",
    "circuit2 = cirq.Circuit()\n",
    "for moment in circuit:\n",
    "    circuit2.append(cirq.decompose(moment))\n",
    "print(circuit2)"
   ]
  },
  {
   "cell_type": "code",
   "execution_count": 26,
   "metadata": {},
   "outputs": [
    {
     "name": "stdout",
     "output_type": "stream",
     "text": [
      "(0, 0): ───────────H───────────\n",
      "\n",
      "(1, 0): ───@───@───────H───────\n",
      "           │   │\n",
      "(2, 0): ───@───@───────────H───\n",
      "\n",
      "Decomposition:\n",
      "(0, 0): ───Y^0.5───X───────────────\n",
      "\n",
      "(1, 0): ───@───────@───Y^0.5───X───\n",
      "           │       │\n",
      "(2, 0): ───@───────@───Y^0.5───X───\n"
     ]
    }
   ],
   "source": [
    "circuit = cirq.Circuit()\n",
    "circuit.append([CZ(q1, q2)])\n",
    "circuit.append([CZ(q1, q2)])\n",
    "circuit.append([H(q0), H(q1), H(q2)], strategy=InsertStrategy.NEW)\n",
    "circuit2 = cirq.Circuit()\n",
    "print(circuit)\n",
    "print(\"\\nDecomposition:\")\n",
    "for moment in circuit:\n",
    "    circuit2.append(cirq.decompose(moment))\n",
    "print(circuit2)"
   ]
  },
  {
   "cell_type": "markdown",
   "metadata": {},
   "source": [
    "## Simulation\n",
    "\n",
    "The simulators make a distrinction between a \"run\" and a \"simulation\". A \"run\" only allows for a simulation that mimics the actual quantum hardware. For example, it does not allow for access to the amplitudes of the wave function of the system. \"Simulate\" commands are more broad and allow different forms of simulation. One should be wary of relying on \"simulate\" methods when run against actual hardware.\n",
    "\n",
    "To run a simulation of the full circuit we simply create a simulator, and pass the circuit to the simulator."
   ]
  },
  {
   "cell_type": "code",
   "execution_count": 27,
   "metadata": {},
   "outputs": [
    {
     "name": "stdout",
     "output_type": "stream",
     "text": [
      "Simulation: 8\n",
      "measurements: q1=1 q2=0 q3=0\n",
      "output vector: |100⟩\n"
     ]
    }
   ],
   "source": [
    "from cirq.ops import measure\n",
    "\n",
    "# Initiate the simulator and the circuit\n",
    "sim = cirq.Simulator()\n",
    "circuit = cirq.Circuit()\n",
    "\n",
    "# Define the qubits\n",
    "q1, q2, q3 = [cirq.LineQubit(i) for i in range(3)]\n",
    "\n",
    "# Define the moments\n",
    "def my_layers():\n",
    "    yield [X(q1)]\n",
    "    yield [H(q2)]\n",
    "    yield [CX(q2,q3)]\n",
    "    yield measure(q1, key='q1'), measure(q2, key='q2'), measure(q3, key='q3')\n",
    "    \n",
    "# Add the gates to the circuit\n",
    "circuit.append(my_layers())\n",
    "\n",
    "# Run the simulation using 'simulate'\n",
    "results = sim.simulate(circuit)\n",
    "print(\"Simulation: {}\".format(i))\n",
    "print(results)"
   ]
  },
  {
   "cell_type": "markdown",
   "metadata": {},
   "source": [
    "This is neat! We see that we get the measurement readout from each qubit as well as the output vector in bra-ket notation.\n",
    "\n",
    "What else can we get? We can also get the Bloch Sphere coordinates."
   ]
  },
  {
   "cell_type": "code",
   "execution_count": 28,
   "metadata": {},
   "outputs": [
    {
     "name": "stdout",
     "output_type": "stream",
     "text": [
      "x:  0.0 \n",
      "y:  0.0 \n",
      "z:  -1.0\n"
     ]
    }
   ],
   "source": [
    "# Print the Bloch Sphere coordinates. Cirq has a function that\n",
    "#    returns the coordinates as a vector. The first argument is \n",
    "#    the state you want to check, and the second argument is the \n",
    "#    index of the qubit you want to show.\n",
    "\n",
    "bX, bY, bZ = cirq.bloch_vector_from_state_vector(results.final_state, 0)\n",
    "print(\"x: \", round(bX, 4),\n",
    "      \"\\ny: \", round(bY, 4),\n",
    "      \"\\nz: \", round(bZ, 4))"
   ]
  },
  {
   "cell_type": "code",
   "execution_count": 29,
   "metadata": {},
   "outputs": [
    {
     "name": "stdout",
     "output_type": "stream",
     "text": [
      "x:  0.0 \n",
      "y:  0.0 \n",
      "z:  1.0\n"
     ]
    }
   ],
   "source": [
    "# Print the Bloch Sphere coordinates. Cirq has a function that\n",
    "#    returns the coordinates as a vector. The first argument is \n",
    "#    the state you want to check, and the second argument is the \n",
    "#    index of the qubit you want to show.\n",
    "\n",
    "bX, bY, bZ = cirq.bloch_vector_from_state_vector(results.final_state, 1)\n",
    "print(\"x: \", round(bX, 4),\n",
    "      \"\\ny: \", round(bY, 4),\n",
    "      \"\\nz: \", round(bZ, 4))"
   ]
  },
  {
   "cell_type": "code",
   "execution_count": 30,
   "metadata": {},
   "outputs": [
    {
     "name": "stdout",
     "output_type": "stream",
     "text": [
      "x:  0.0 \n",
      "y:  0.0 \n",
      "z:  1.0\n"
     ]
    }
   ],
   "source": [
    "# Print the Bloch Sphere coordinates. Cirq has a function that\n",
    "#    returns the coordinates as a vector. The first argument is \n",
    "#    the state you want to check, and the second argument is the \n",
    "#    index of the qubit you want to show.\n",
    "\n",
    "bX, bY, bZ = cirq.bloch_vector_from_state_vector(results.final_state, 2)\n",
    "print(\"x: \", round(bX, 4),\n",
    "      \"\\ny: \", round(bY, 4),\n",
    "      \"\\nz: \", round(bZ, 4))"
   ]
  },
  {
   "cell_type": "markdown",
   "metadata": {},
   "source": [
    "Now, let's compare what happens if we use 'run' instead. This time, we can call the number of repetitions in the arguments of the function."
   ]
  },
  {
   "cell_type": "code",
   "execution_count": 31,
   "metadata": {},
   "outputs": [
    {
     "name": "stdout",
     "output_type": "stream",
     "text": [
      "q1=1111111111111111111111111111111111111111111111111111111111111111111111111111111111111111111111111111\n",
      "q2=0111001101010111101101101010100100101010001101000111100000000010101000001010110011010011011001001001\n",
      "q3=0111001101010111101101101010100100101010001101000111100000000010101000001010110011010011011001001001\n"
     ]
    }
   ],
   "source": [
    "results = sim.run(circuit, repetitions=100)\n",
    "print(results)"
   ]
  },
  {
   "cell_type": "markdown",
   "metadata": {},
   "source": [
    "We can see that the second and third qubits are always the same! Which is exactly what we expect.\n",
    "\n",
    "We can also get some summary statistics with the below code."
   ]
  },
  {
   "cell_type": "code",
   "execution_count": 32,
   "metadata": {},
   "outputs": [
    {
     "name": "stdout",
     "output_type": "stream",
     "text": [
      "Counter({1: 100})\n",
      "Counter({0: 54, 1: 46})\n",
      "Counter({0: 54, 1: 46})\n"
     ]
    }
   ],
   "source": [
    "print(results.histogram(key='q1'))\n",
    "print(results.histogram(key='q2'))\n",
    "print(results.histogram(key='q3'))"
   ]
  },
  {
   "cell_type": "markdown",
   "metadata": {},
   "source": [
    "We can also see that roughly half the time the second and third qubits are either one or zero, which is exactly what we expect given they are in the bell state."
   ]
  }
 ],
 "metadata": {
  "kernelspec": {
   "display_name": "Python 3",
   "language": "python",
   "name": "python3"
  },
  "language_info": {
   "codemirror_mode": {
    "name": "ipython",
    "version": 3
   },
   "file_extension": ".py",
   "mimetype": "text/x-python",
   "name": "python",
   "nbconvert_exporter": "python",
   "pygments_lexer": "ipython3",
   "version": "3.7.4"
  }
 },
 "nbformat": 4,
 "nbformat_minor": 2
}
