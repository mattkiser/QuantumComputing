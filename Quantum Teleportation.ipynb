{
 "cells": [
  {
   "cell_type": "markdown",
   "metadata": {},
   "source": [
    "# Quantum Teleportation\n",
    "\n",
    "Quantum teleportation is one of the marquee phenomena of quantum computing. While the name conjures sci-fi fantasy, \n",
    "quantum teleportation is an experimentally realised [ ] in qubits [1] and more recently qutrits [2]. In this notebook we follow and add to the code from Jack Hidary's *Quantum Computing: An Applied Approach* (website can be found: https://github.com/JackHidary/quantumcomputingbook) [3].\n",
    "\n",
    "We begin by importing the relevant packages and gates with a check on the version of cirq being used."
   ]
  },
  {
   "cell_type": "code",
   "execution_count": 92,
   "metadata": {},
   "outputs": [
    {
     "name": "stdout",
     "output_type": "stream",
     "text": [
      "Cirq version: 0.6.0\n"
     ]
    }
   ],
   "source": [
    "import cirq\n",
    "import random\n",
    "from cirq.ops import H, X, I, CNOT, Y, measure\n",
    "\n",
    "print(\"Cirq version:\", cirq.__version__)"
   ]
  },
  {
   "cell_type": "markdown",
   "metadata": {},
   "source": [
    "## Foundational elements\n",
    "\n",
    "When first using cirq, you will notice that the qubit will always start in the 0 state. Let's check this out!"
   ]
  },
  {
   "cell_type": "code",
   "execution_count": 93,
   "metadata": {},
   "outputs": [
    {
     "name": "stdout",
     "output_type": "stream",
     "text": [
      "measurements: 1=0\n",
      "output vector: |0⟩\n",
      "\n",
      "Bloch Sphere coordinates of a 'default' qubit:\n",
      "x:  0.0 \n",
      "y:  0.0 \n",
      "z:  1.0\n"
     ]
    }
   ],
   "source": [
    "# Initialize the circuit and the simulator\n",
    "circuit = cirq.Circuit()\n",
    "sim = cirq.Simulator()\n",
    "\n",
    "# Define the number of qubits. In cirq, we can either use\n",
    "#     a 'GridQubit' or a 'LineQubit' for simplicity in this instance\n",
    "#     we will use a 'LineQubit'\n",
    "qubit = cirq.LineQubit(1)\n",
    "\n",
    "# Append an identity gate and then a measure gate\n",
    "circuit.append(I(qubit))\n",
    "circuit.append(measure(qubit))\n",
    "\n",
    "# Simulate the circuit and print the measurement result\n",
    "final_results = sim.simulate(circuit)\n",
    "print(final_results)\n",
    "\n",
    "# Print the Bloch Sphere coordinates. Cirq has a function that\n",
    "#    returns the coordinates as a vector. The first argument is \n",
    "#    the state you want to check, and the second argument is the \n",
    "#    index of the qubit you want to show.\n",
    "print(\"\\nBloch Sphere coordinates of a 'default' qubit:\")\n",
    "b0X, b0Y, b0Z = cirq.bloch_vector_from_state_vector(final_results.final_state, 0)\n",
    "\n",
    "print(\"x: \", round(b0X, 4),\n",
    "      \"\\ny: \", round(b0Y, 4),\n",
    "      \"\\nz: \", round(b0Z, 4))"
   ]
  },
  {
   "cell_type": "markdown",
   "metadata": {},
   "source": [
    "The 0 state is not exactly the most fun qubit to teleport. So, how do we make an arbitrary, interesting qubit to teleport? We pass our qubit through the X gate raised to a random exponent and the Y gate raised to a random exponent. This will bring our 0-ket to an arbitrary state on the bloch sphere.\n",
    "\n",
    "We will do this now."
   ]
  },
  {
   "cell_type": "code",
   "execution_count": 94,
   "metadata": {},
   "outputs": [
    {
     "name": "stdout",
     "output_type": "stream",
     "text": [
      "Bloch Sphere coordinates of 'random' qubit:\n",
      "x:  -0.6099 \n",
      "y:  -0.7903 \n",
      "z:  0.0589\n"
     ]
    }
   ],
   "source": [
    "# Initialize the circuit and the simulator\n",
    "circuit = cirq.Circuit()\n",
    "sim = cirq.Simulator()\n",
    "\n",
    "# Choose random exponents for our X-gate and Y-gate\n",
    "ranX = random.random()\n",
    "ranY = random.random()\n",
    "\n",
    "# Define the number of qubits\n",
    "qubit = cirq.LineQubit(1)\n",
    "\n",
    "# Append an X-gate and a Y-gate raised to the random exponents\n",
    "circuit.append([cirq.X(qubit)**ranX,cirq.Y(qubit)**ranY])\n",
    "\n",
    "# Simulate the circuit\n",
    "final_results = sim.simulate(circuit)\n",
    "\n",
    "# Print the Bloch Sphere coordinates. Cirq has a function that\n",
    "#    returns the coordinates as a vector. The first argument is \n",
    "#    the state you want to check, and the second argument is the \n",
    "#    index of the qubit you want to show.\n",
    "print(\"Bloch Sphere coordinates of 'random' qubit:\")\n",
    "b0X, b0Y, b0Z = cirq.bloch_vector_from_state_vector(final_results.final_state, 0)\n",
    "\n",
    "print(\"x: \", round(b0X, 4),\n",
    "      \"\\ny: \", round(b0Y, 4),\n",
    "      \"\\nz: \", round(b0Z, 4))"
   ]
  },
  {
   "cell_type": "markdown",
   "metadata": {},
   "source": [
    "This is much more interesting! Now, we will begin to construct the teleportation circuit. We will use the circuit shown in [1].\n",
    "\n",
    "## Teleportation circuit\n",
    "\n",
    "As is typical in the documentation, we will construct the circuit by defining a function."
   ]
  },
  {
   "cell_type": "code",
   "execution_count": 95,
   "metadata": {},
   "outputs": [],
   "source": [
    "def make_quantum_teleportation_circuit():\n",
    "    '''Builds the teleportation circuit for a random\n",
    "    qubit to be sent from Alice to Bob'''\n",
    "    \n",
    "    # Define the random powers for the qubit to be\n",
    "    #     sent\n",
    "    ranX = random.random()\n",
    "    ranY = random.random()\n",
    "    \n",
    "    # Initialise the circuit and the simulator\n",
    "    circuit = cirq.Circuit()\n",
    "    sim = cirq.Simulator()\n",
    "    \n",
    "    # Prepare the qubits to be used. Alice has 'alice' \n",
    "    #     and 'msg,' which will be the random qubit to \n",
    "    #     be sent to Bob, who has 'bob'\n",
    "    msg, alice, bob = cirq.LineQubit.range(3)\n",
    "        \n",
    "    # Check what the message is to ensure the teleportation\n",
    "    #     is successful\n",
    "    message = sim.simulate(cirq.Circuit([X(msg)**ranX,Y(msg)**ranY]))\n",
    "    print(\"Bloch Sphere coordinates of Alice's qubit:\")\n",
    "    aX, aY, aZ = cirq. bloch_vector_from_state_vector(message.final_state, 0)\n",
    "    print(\"x: \", round(aX, 4),\n",
    "          \"\\ny: \", round(aY, 4),\n",
    "          \"\\nz: \", round(aZ, 4))\n",
    "    \n",
    "    # Create the random qubit to be teleported\n",
    "    circuit.append([X(msg)**ranX, Y(msg)**ranY])\n",
    "    \n",
    "    # Entangle Alice's non-message qubit with Bob's\n",
    "    #     qubit\n",
    "    circuit.append([H(alice),CNOT(alice, bob)])\n",
    "    \n",
    "    # Instantiate the circuit to teleport the message\n",
    "    circuit.append([CNOT(msg, alice), H(msg)])\n",
    "    circuit.append(measure(msg, alice))\n",
    "    \n",
    "    # Manipulate Bob's qubit in order to successfully\n",
    "    #     send the message based on the syndrome from\n",
    "    #     Alice's measurements.\n",
    "    circuit.append([CNOT(alice, bob),CZ(msg, bob)])\n",
    "    \n",
    "    # Print out the circuit so that we can check it is \n",
    "    #     correctly instantiated\n",
    "    print(\"\\nCircuit:\\n\")\n",
    "    print(circuit)\n",
    "    \n",
    "    # Simulate the circuit to teleport the qubit\n",
    "    final_results = sim.simulate(circuit)\n",
    "    \n",
    "    # Print the results of Bob's qubit\n",
    "    print(\"\\nBloch Sphere coordinates of Bob's qubit:\")\n",
    "    bX, bY, bZ = cirq.bloch_vector_from_state_vector(final_results.final_state, 2)\n",
    "    print(\"x: \", round(bX, 4),\n",
    "          \"\\ny: \", round(bY, 4),\n",
    "          \"\\nz: \", round(bZ, 4))\n",
    "    \n",
    "    # Check if it is successfully teleported\n",
    "    if round(aX, 4) == round(bX, 4) and round(aY, 4) == round(bY, 4) and round(aZ, 4) == round(bZ, 4):\n",
    "        print(\"\\nTeleportation successful!\")\n",
    "    else:\n",
    "        print(\"\\nTeleportation unsuccessful :(\")"
   ]
  },
  {
   "cell_type": "code",
   "execution_count": 96,
   "metadata": {},
   "outputs": [
    {
     "name": "stdout",
     "output_type": "stream",
     "text": [
      "Bloch Sphere coordinates of Alice's qubit:\n",
      "x:  -0.5798 \n",
      "y:  -0.5569 \n",
      "z:  -0.5947\n",
      "\n",
      "Circuit:\n",
      "\n",
      "0: ───X^(13/16)───Y^0.246───@───H───M───────@───\n",
      "                            │       │       │\n",
      "1: ───H───────────@─────────X───────M───@───┼───\n",
      "                  │                     │   │\n",
      "2: ───────────────X─────────────────────X───@───\n",
      "\n",
      "Bloch Sphere coordinates of Bob's qubit:\n",
      "x:  -0.5798 \n",
      "y:  -0.5569 \n",
      "z:  -0.5947\n",
      "\n",
      "Teleportation successful!\n"
     ]
    }
   ],
   "source": [
    "make_quantum_teleportation_circuit()"
   ]
  },
  {
   "cell_type": "markdown",
   "metadata": {},
   "source": [
    "### References\n",
    "\n",
    "[1] Bouwmeester, D.; et al. (1997). \"Experimental quantum teleportation\". Nature. 390 (6660): 575–579. arXiv:1901.11004.\n",
    "\n",
    "[2] Luo, Y. -han,; et al, (2019). \"Quantum Teleportation in High Dimensions\", Physical Review Letters. \n",
    "\n",
    "[3] Hidary, J., (2019). *Quantum Computing: An Applied Approach*. Cham: Springer."
   ]
  }
 ],
 "metadata": {
  "kernelspec": {
   "display_name": "Python 3",
   "language": "python",
   "name": "python3"
  },
  "language_info": {
   "codemirror_mode": {
    "name": "ipython",
    "version": 3
   },
   "file_extension": ".py",
   "mimetype": "text/x-python",
   "name": "python",
   "nbconvert_exporter": "python",
   "pygments_lexer": "ipython3",
   "version": "3.7.4"
  }
 },
 "nbformat": 4,
 "nbformat_minor": 2
}
